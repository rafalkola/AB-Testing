{
 "cells": [
  {
   "cell_type": "markdown",
   "id": "bef611de",
   "metadata": {},
   "source": [
    "### Importing Necessary Libraries"
   ]
  },
  {
   "cell_type": "code",
   "execution_count": 220,
   "id": "3ed13f59",
   "metadata": {},
   "outputs": [],
   "source": [
    "import pandas as pd\n",
    "import numpy as np\n",
    "import scipy.stats as stats\n",
    "import matplotlib.pyplot as plt\n",
    "import seaborn as sns\n",
    "from datetime import timedelta, datetime"
   ]
  },
  {
   "cell_type": "markdown",
   "id": "7673100d",
   "metadata": {},
   "source": [
    "### Uploading Data Frames"
   ]
  },
  {
   "cell_type": "code",
   "execution_count": 221,
   "id": "78c5df51",
   "metadata": {},
   "outputs": [],
   "source": [
    "path_1 = \"/Users/rafalkolakowski/Desktop/Data Analyst/portfolio/ab testing/interactions.csv\"\n",
    "interactions = pd.read_csv(path_1)\n",
    "path_2 = \"/Users/rafalkolakowski/Desktop/Data Analyst/portfolio/ab testing/users.csv\"\n",
    "users = pd.read_csv(path_2)\n",
    "path_3 = \"/Users/rafalkolakowski/Desktop/Data Analyst/portfolio/ab testing/products.csv\"\n",
    "products = pd.read_csv(path_3)"
   ]
  },
  {
   "cell_type": "markdown",
   "id": "ef78a242",
   "metadata": {},
   "source": [
    "### Data Wrangling - Checking data types, null values, duplicated values"
   ]
  },
  {
   "cell_type": "code",
   "execution_count": 222,
   "id": "984a9613",
   "metadata": {},
   "outputs": [
    {
     "name": "stdout",
     "output_type": "stream",
     "text": [
      "<class 'pandas.core.frame.DataFrame'>\n",
      "RangeIndex: 60000 entries, 0 to 59999\n",
      "Data columns (total 8 columns):\n",
      " #   Column             Non-Null Count  Dtype \n",
      "---  ------             --------------  ----- \n",
      " 0   user_id            60000 non-null  int64 \n",
      " 1   age                60000 non-null  int64 \n",
      " 2   gender             59941 non-null  object\n",
      " 3   country            60000 non-null  object\n",
      " 4   account_created    60000 non-null  object\n",
      " 5   device_type        60000 non-null  object\n",
      " 6   marketing_channel  59909 non-null  object\n",
      " 7   user_group         60000 non-null  object\n",
      "dtypes: int64(2), object(6)\n",
      "memory usage: 3.7+ MB\n"
     ]
    }
   ],
   "source": [
    "users.info()"
   ]
  },
  {
   "cell_type": "code",
   "execution_count": 223,
   "id": "65b11110",
   "metadata": {},
   "outputs": [
    {
     "data": {
      "text/plain": [
       "user_id               0\n",
       "age                   0\n",
       "gender               59\n",
       "country               0\n",
       "account_created       0\n",
       "device_type           0\n",
       "marketing_channel    91\n",
       "user_group            0\n",
       "dtype: int64"
      ]
     },
     "execution_count": 223,
     "metadata": {},
     "output_type": "execute_result"
    }
   ],
   "source": [
    "users.isnull().sum()"
   ]
  },
  {
   "cell_type": "code",
   "execution_count": 224,
   "id": "baac1c57",
   "metadata": {},
   "outputs": [
    {
     "data": {
      "text/plain": [
       "marketing_channel\n",
       "Email           14974\n",
       "Social Media    14909\n",
       "Ads             14873\n",
       "Referral        14844\n",
       "email              85\n",
       "social_media       80\n",
       "ads                79\n",
       "referral           65\n",
       "Name: count, dtype: int64"
      ]
     },
     "execution_count": 224,
     "metadata": {},
     "output_type": "execute_result"
    }
   ],
   "source": [
    "users[\"marketing_channel\"].value_counts()"
   ]
  },
  {
   "cell_type": "code",
   "execution_count": 225,
   "id": "35f3f36c",
   "metadata": {},
   "outputs": [],
   "source": [
    "users[\"marketing_channel\"] = users[\"marketing_channel\"].map(\n",
    "    {\"email\": \"Email\",\n",
    "     \"social_media\": \"Social Media\",\n",
    "     \"ads\": \"Ads\",\n",
    "     \"referral\": \"Referral\",\n",
    "     \"Social Media\": \"Social Media\",\n",
    "     \"Ads\": \"Ads\",\n",
    "     \"Email\": \"Email\",\n",
    "     \"Referral\": \"Referral\"})"
   ]
  },
  {
   "cell_type": "code",
   "execution_count": 226,
   "id": "0241ab60",
   "metadata": {},
   "outputs": [
    {
     "name": "stderr",
     "output_type": "stream",
     "text": [
      "/var/folders/h0/4jpjr28x5yj6tn2nqwlp8cn40000gn/T/ipykernel_55756/3914189977.py:1: FutureWarning: A value is trying to be set on a copy of a DataFrame or Series through chained assignment using an inplace method.\n",
      "The behavior will change in pandas 3.0. This inplace method will never work because the intermediate object on which we are setting values always behaves as a copy.\n",
      "\n",
      "For example, when doing 'df[col].method(value, inplace=True)', try using 'df.method({col: value}, inplace=True)' or df[col] = df[col].method(value) instead, to perform the operation inplace on the original object.\n",
      "\n",
      "\n",
      "  users[\"marketing_channel\"].fillna(\"Email\", inplace=True)\n"
     ]
    }
   ],
   "source": [
    "users[\"marketing_channel\"].fillna(\"Email\", inplace=True)"
   ]
  },
  {
   "cell_type": "code",
   "execution_count": 227,
   "id": "edf5423e",
   "metadata": {},
   "outputs": [
    {
     "data": {
      "text/plain": [
       "gender\n",
       "Male      35970\n",
       "Female    23730\n",
       "mal          68\n",
       "F            58\n",
       "M            58\n",
       "fem          57\n",
       "Name: count, dtype: int64"
      ]
     },
     "execution_count": 227,
     "metadata": {},
     "output_type": "execute_result"
    }
   ],
   "source": [
    "users[\"gender\"].value_counts()"
   ]
  },
  {
   "cell_type": "code",
   "execution_count": 228,
   "id": "3c0a74b0",
   "metadata": {},
   "outputs": [],
   "source": [
    "users[\"gender\"] = users[\"gender\"].map(\n",
    "    {\"Female\": \"Female\",\n",
    "     \"fem\": \"Female\",\n",
    "     \"F\": \"Female\",\n",
    "     \"Male\": \"Male\",\n",
    "     \"mal\": \"Male\",\n",
    "     \"M\": \"Male\"})"
   ]
  },
  {
   "cell_type": "code",
   "execution_count": 229,
   "id": "ae961239",
   "metadata": {},
   "outputs": [
    {
     "data": {
      "text/plain": [
       "gender\n",
       "Male      36096\n",
       "Female    23845\n",
       "Name: count, dtype: int64"
      ]
     },
     "execution_count": 229,
     "metadata": {},
     "output_type": "execute_result"
    }
   ],
   "source": [
    "users[\"gender\"].value_counts()"
   ]
  },
  {
   "cell_type": "code",
   "execution_count": 230,
   "id": "dc6114aa",
   "metadata": {},
   "outputs": [
    {
     "data": {
      "text/plain": [
       "59"
      ]
     },
     "execution_count": 230,
     "metadata": {},
     "output_type": "execute_result"
    }
   ],
   "source": [
    "users[\"gender\"].isna().sum()"
   ]
  },
  {
   "cell_type": "code",
   "execution_count": 231,
   "id": "7786c2dc",
   "metadata": {},
   "outputs": [
    {
     "data": {
      "text/plain": [
       "0"
      ]
     },
     "execution_count": 231,
     "metadata": {},
     "output_type": "execute_result"
    }
   ],
   "source": [
    "users.duplicated().sum()"
   ]
  },
  {
   "cell_type": "code",
   "execution_count": 232,
   "id": "c35b424a",
   "metadata": {},
   "outputs": [
    {
     "data": {
      "text/plain": [
       "user_id               int64\n",
       "age                   int64\n",
       "gender               object\n",
       "country              object\n",
       "account_created      object\n",
       "device_type          object\n",
       "marketing_channel    object\n",
       "user_group           object\n",
       "dtype: object"
      ]
     },
     "execution_count": 232,
     "metadata": {},
     "output_type": "execute_result"
    }
   ],
   "source": [
    "users.dtypes"
   ]
  },
  {
   "cell_type": "code",
   "execution_count": 233,
   "id": "c03b5cfd",
   "metadata": {},
   "outputs": [],
   "source": [
    "users[\"is_adult\"] = users[\"age\"] >= 18"
   ]
  },
  {
   "cell_type": "code",
   "execution_count": 234,
   "id": "5be80d38",
   "metadata": {},
   "outputs": [],
   "source": [
    "users = users[users[\"age\"] >= 18]"
   ]
  },
  {
   "cell_type": "code",
   "execution_count": 235,
   "id": "1732103e",
   "metadata": {},
   "outputs": [
    {
     "data": {
      "text/plain": [
       "country\n",
       "Es    8596\n",
       "Us    8551\n",
       "Uk    8536\n",
       "It    8502\n",
       "De    8486\n",
       "Fr    8463\n",
       "Pl    8433\n",
       " E      78\n",
       " F      77\n",
       "uK      74\n",
       "PL      69\n",
       "de      68\n",
       "us      66\n",
       "Name: count, dtype: int64"
      ]
     },
     "execution_count": 235,
     "metadata": {},
     "output_type": "execute_result"
    }
   ],
   "source": [
    "users[\"country\"].value_counts()"
   ]
  },
  {
   "cell_type": "code",
   "execution_count": 236,
   "id": "652e70bb",
   "metadata": {},
   "outputs": [
    {
     "name": "stderr",
     "output_type": "stream",
     "text": [
      "/var/folders/h0/4jpjr28x5yj6tn2nqwlp8cn40000gn/T/ipykernel_55756/3112106580.py:1: FutureWarning: A value is trying to be set on a copy of a DataFrame or Series through chained assignment using an inplace method.\n",
      "The behavior will change in pandas 3.0. This inplace method will never work because the intermediate object on which we are setting values always behaves as a copy.\n",
      "\n",
      "For example, when doing 'df[col].method(value, inplace=True)', try using 'df.method({col: value}, inplace=True)' or df[col] = df[col].method(value) instead, to perform the operation inplace on the original object.\n",
      "\n",
      "\n",
      "  users[\"country\"].replace({\"F\": \"Fr\", \"E\": \"Es\"}, inplace=True)\n"
     ]
    }
   ],
   "source": [
    "users[\"country\"].replace({\"F\": \"Fr\", \"E\": \"Es\"}, inplace=True)"
   ]
  },
  {
   "cell_type": "code",
   "execution_count": 237,
   "id": "98230a9d",
   "metadata": {},
   "outputs": [
    {
     "data": {
      "text/plain": [
       "country\n",
       "Es    8596\n",
       "Us    8551\n",
       "Uk    8536\n",
       "It    8502\n",
       "De    8486\n",
       "Fr    8463\n",
       "Pl    8433\n",
       " E      78\n",
       " F      77\n",
       "uK      74\n",
       "PL      69\n",
       "de      68\n",
       "us      66\n",
       "Name: count, dtype: int64"
      ]
     },
     "execution_count": 237,
     "metadata": {},
     "output_type": "execute_result"
    }
   ],
   "source": [
    "users[\"country\"].value_counts()"
   ]
  },
  {
   "cell_type": "code",
   "execution_count": 238,
   "id": "131e7a54",
   "metadata": {},
   "outputs": [],
   "source": [
    "users[\"account_created\"] = pd.to_datetime(users[\"account_created\"], errors=\"coerce\")"
   ]
  },
  {
   "cell_type": "code",
   "execution_count": 239,
   "id": "5a25bcdf",
   "metadata": {},
   "outputs": [
    {
     "data": {
      "text/plain": [
       "device_type\n",
       "mobile     35803\n",
       "desktop    18239\n",
       "tablet      5957\n",
       "Name: count, dtype: int64"
      ]
     },
     "execution_count": 239,
     "metadata": {},
     "output_type": "execute_result"
    }
   ],
   "source": [
    "users[\"device_type\"].value_counts()"
   ]
  },
  {
   "cell_type": "code",
   "execution_count": 240,
   "id": "5fe70df3",
   "metadata": {},
   "outputs": [
    {
     "data": {
      "text/plain": [
       "user_group\n",
       "control    30000\n",
       "test       29999\n",
       "Name: count, dtype: int64"
      ]
     },
     "execution_count": 240,
     "metadata": {},
     "output_type": "execute_result"
    }
   ],
   "source": [
    "users[\"user_group\"].value_counts()"
   ]
  },
  {
   "cell_type": "code",
   "execution_count": 241,
   "id": "54eedc17",
   "metadata": {},
   "outputs": [
    {
     "data": {
      "text/plain": [
       "59"
      ]
     },
     "execution_count": 241,
     "metadata": {},
     "output_type": "execute_result"
    }
   ],
   "source": [
    "users[\"gender\"].isnull().sum()"
   ]
  },
  {
   "cell_type": "code",
   "execution_count": 242,
   "id": "ed4f871d",
   "metadata": {},
   "outputs": [
    {
     "name": "stdout",
     "output_type": "stream",
     "text": [
      "<class 'pandas.core.frame.DataFrame'>\n",
      "RangeIndex: 1000 entries, 0 to 999\n",
      "Data columns (total 6 columns):\n",
      " #   Column          Non-Null Count  Dtype  \n",
      "---  ------          --------------  -----  \n",
      " 0   product_id      1000 non-null   int64  \n",
      " 1   category        1000 non-null   object \n",
      " 2   price           1000 non-null   float64\n",
      " 3   rating          999 non-null    float64\n",
      " 4   stock_quantity  1000 non-null   int64  \n",
      " 5   launch_date     1000 non-null   object \n",
      "dtypes: float64(2), int64(2), object(2)\n",
      "memory usage: 47.0+ KB\n"
     ]
    }
   ],
   "source": [
    "products.info()"
   ]
  },
  {
   "cell_type": "code",
   "execution_count": 243,
   "id": "d73f85bd",
   "metadata": {},
   "outputs": [],
   "source": [
    "products[\"launch_date\"] = pd.to_datetime(products[\"launch_date\"], errors=\"coerce\")"
   ]
  },
  {
   "cell_type": "code",
   "execution_count": 244,
   "id": "150bcd30",
   "metadata": {},
   "outputs": [
    {
     "data": {
      "text/html": [
       "<div>\n",
       "<style scoped>\n",
       "    .dataframe tbody tr th:only-of-type {\n",
       "        vertical-align: middle;\n",
       "    }\n",
       "\n",
       "    .dataframe tbody tr th {\n",
       "        vertical-align: top;\n",
       "    }\n",
       "\n",
       "    .dataframe thead th {\n",
       "        text-align: right;\n",
       "    }\n",
       "</style>\n",
       "<table border=\"1\" class=\"dataframe\">\n",
       "  <thead>\n",
       "    <tr style=\"text-align: right;\">\n",
       "      <th></th>\n",
       "      <th>interaction_id</th>\n",
       "      <th>user_id</th>\n",
       "      <th>product_id</th>\n",
       "      <th>session_id</th>\n",
       "      <th>timestamp_click</th>\n",
       "      <th>recommended</th>\n",
       "      <th>clicked</th>\n",
       "      <th>purchased</th>\n",
       "      <th>device_used</th>\n",
       "      <th>match_score</th>\n",
       "      <th>time_on_page_sec</th>\n",
       "      <th>timestamp_purchase</th>\n",
       "      <th>user_group</th>\n",
       "    </tr>\n",
       "  </thead>\n",
       "  <tbody>\n",
       "    <tr>\n",
       "      <th>0</th>\n",
       "      <td>1</td>\n",
       "      <td>56423</td>\n",
       "      <td>847</td>\n",
       "      <td>session_single_56423</td>\n",
       "      <td>2024-05-15 00:35:39</td>\n",
       "      <td>True</td>\n",
       "      <td>True</td>\n",
       "      <td>False</td>\n",
       "      <td>tablet</td>\n",
       "      <td>44</td>\n",
       "      <td>122.625471</td>\n",
       "      <td>NaN</td>\n",
       "      <td>control</td>\n",
       "    </tr>\n",
       "    <tr>\n",
       "      <th>1</th>\n",
       "      <td>2</td>\n",
       "      <td>15796</td>\n",
       "      <td>564</td>\n",
       "      <td>session_single_15796</td>\n",
       "      <td>2024-01-31 23:54:19</td>\n",
       "      <td>False</td>\n",
       "      <td>True</td>\n",
       "      <td>False</td>\n",
       "      <td>desktop</td>\n",
       "      <td>51</td>\n",
       "      <td>113.145827</td>\n",
       "      <td>NaN</td>\n",
       "      <td>control</td>\n",
       "    </tr>\n",
       "    <tr>\n",
       "      <th>2</th>\n",
       "      <td>3</td>\n",
       "      <td>861</td>\n",
       "      <td>907</td>\n",
       "      <td>session_75080</td>\n",
       "      <td>2024-05-20 07:14:28</td>\n",
       "      <td>False</td>\n",
       "      <td>True</td>\n",
       "      <td>False</td>\n",
       "      <td>desktop</td>\n",
       "      <td>60</td>\n",
       "      <td>175.284554</td>\n",
       "      <td>NaN</td>\n",
       "      <td>test</td>\n",
       "    </tr>\n",
       "    <tr>\n",
       "      <th>3</th>\n",
       "      <td>4</td>\n",
       "      <td>38159</td>\n",
       "      <td>853</td>\n",
       "      <td>session_69069</td>\n",
       "      <td>2024-04-03 16:45:11</td>\n",
       "      <td>True</td>\n",
       "      <td>True</td>\n",
       "      <td>False</td>\n",
       "      <td>mobile</td>\n",
       "      <td>84</td>\n",
       "      <td>95.958430</td>\n",
       "      <td>NaN</td>\n",
       "      <td>test</td>\n",
       "    </tr>\n",
       "    <tr>\n",
       "      <th>4</th>\n",
       "      <td>5</td>\n",
       "      <td>54344</td>\n",
       "      <td>775</td>\n",
       "      <td>session_single_54344</td>\n",
       "      <td>2024-01-12 20:12:07</td>\n",
       "      <td>False</td>\n",
       "      <td>True</td>\n",
       "      <td>False</td>\n",
       "      <td>mobile</td>\n",
       "      <td>34</td>\n",
       "      <td>115.837189</td>\n",
       "      <td>NaN</td>\n",
       "      <td>test</td>\n",
       "    </tr>\n",
       "    <tr>\n",
       "      <th>5</th>\n",
       "      <td>6</td>\n",
       "      <td>44733</td>\n",
       "      <td>119</td>\n",
       "      <td>session_single_44733</td>\n",
       "      <td>2024-04-20 21:40:27</td>\n",
       "      <td>False</td>\n",
       "      <td>True</td>\n",
       "      <td>True</td>\n",
       "      <td>mobile</td>\n",
       "      <td>24</td>\n",
       "      <td>182.677071</td>\n",
       "      <td>2024-04-20 21:42:21</td>\n",
       "      <td>test</td>\n",
       "    </tr>\n",
       "    <tr>\n",
       "      <th>6</th>\n",
       "      <td>7</td>\n",
       "      <td>11285</td>\n",
       "      <td>578</td>\n",
       "      <td>session_74581</td>\n",
       "      <td>2024-02-10 23:12:43</td>\n",
       "      <td>False</td>\n",
       "      <td>True</td>\n",
       "      <td>True</td>\n",
       "      <td>tablet</td>\n",
       "      <td>36</td>\n",
       "      <td>158.054664</td>\n",
       "      <td>2024-02-10 23:18:05</td>\n",
       "      <td>control</td>\n",
       "    </tr>\n",
       "    <tr>\n",
       "      <th>7</th>\n",
       "      <td>8</td>\n",
       "      <td>54887</td>\n",
       "      <td>267</td>\n",
       "      <td>session_42616</td>\n",
       "      <td>2024-04-09 20:58:17</td>\n",
       "      <td>True</td>\n",
       "      <td>False</td>\n",
       "      <td>False</td>\n",
       "      <td>desktop</td>\n",
       "      <td>94</td>\n",
       "      <td>180.045422</td>\n",
       "      <td>NaN</td>\n",
       "      <td>test</td>\n",
       "    </tr>\n",
       "    <tr>\n",
       "      <th>8</th>\n",
       "      <td>9</td>\n",
       "      <td>6266</td>\n",
       "      <td>280</td>\n",
       "      <td>session_43528</td>\n",
       "      <td>2024-02-09 20:47:00</td>\n",
       "      <td>True</td>\n",
       "      <td>False</td>\n",
       "      <td>True</td>\n",
       "      <td>tablet</td>\n",
       "      <td>28</td>\n",
       "      <td>146.650538</td>\n",
       "      <td>2024-02-09 20:48:58</td>\n",
       "      <td>control</td>\n",
       "    </tr>\n",
       "    <tr>\n",
       "      <th>9</th>\n",
       "      <td>10</td>\n",
       "      <td>16851</td>\n",
       "      <td>346</td>\n",
       "      <td>session_single_16851</td>\n",
       "      <td>2024-04-08 05:34:21</td>\n",
       "      <td>True</td>\n",
       "      <td>False</td>\n",
       "      <td>False</td>\n",
       "      <td>mobile</td>\n",
       "      <td>51</td>\n",
       "      <td>159.319883</td>\n",
       "      <td>NaN</td>\n",
       "      <td>control</td>\n",
       "    </tr>\n",
       "    <tr>\n",
       "      <th>10</th>\n",
       "      <td>11</td>\n",
       "      <td>37195</td>\n",
       "      <td>200</td>\n",
       "      <td>session_single_37195</td>\n",
       "      <td>2024-04-26 03:48:27</td>\n",
       "      <td>True</td>\n",
       "      <td>True</td>\n",
       "      <td>False</td>\n",
       "      <td>mobile</td>\n",
       "      <td>91</td>\n",
       "      <td>113.479182</td>\n",
       "      <td>NaN</td>\n",
       "      <td>test</td>\n",
       "    </tr>\n",
       "    <tr>\n",
       "      <th>11</th>\n",
       "      <td>12</td>\n",
       "      <td>21963</td>\n",
       "      <td>610</td>\n",
       "      <td>session_single_21963</td>\n",
       "      <td>2024-04-22 09:47:34</td>\n",
       "      <td>True</td>\n",
       "      <td>True</td>\n",
       "      <td>False</td>\n",
       "      <td>mobile</td>\n",
       "      <td>46</td>\n",
       "      <td>169.053627</td>\n",
       "      <td>NaN</td>\n",
       "      <td>test</td>\n",
       "    </tr>\n",
       "    <tr>\n",
       "      <th>12</th>\n",
       "      <td>13</td>\n",
       "      <td>47192</td>\n",
       "      <td>143</td>\n",
       "      <td>session_single_47192</td>\n",
       "      <td>2024-04-06 04:47:24</td>\n",
       "      <td>True</td>\n",
       "      <td>True</td>\n",
       "      <td>False</td>\n",
       "      <td>mobile</td>\n",
       "      <td>20</td>\n",
       "      <td>145.076505</td>\n",
       "      <td>NaN</td>\n",
       "      <td>control</td>\n",
       "    </tr>\n",
       "    <tr>\n",
       "      <th>13</th>\n",
       "      <td>14</td>\n",
       "      <td>44132</td>\n",
       "      <td>677</td>\n",
       "      <td>session_single_44132</td>\n",
       "      <td>2024-04-01 04:03:13</td>\n",
       "      <td>True</td>\n",
       "      <td>True</td>\n",
       "      <td>False</td>\n",
       "      <td>desktop</td>\n",
       "      <td>98</td>\n",
       "      <td>137.851795</td>\n",
       "      <td>NaN</td>\n",
       "      <td>test</td>\n",
       "    </tr>\n",
       "    <tr>\n",
       "      <th>14</th>\n",
       "      <td>15</td>\n",
       "      <td>16024</td>\n",
       "      <td>417</td>\n",
       "      <td>session_single_16024</td>\n",
       "      <td>2024-01-23 08:21:29</td>\n",
       "      <td>False</td>\n",
       "      <td>True</td>\n",
       "      <td>False</td>\n",
       "      <td>desktop</td>\n",
       "      <td>86</td>\n",
       "      <td>227.738862</td>\n",
       "      <td>NaN</td>\n",
       "      <td>control</td>\n",
       "    </tr>\n",
       "    <tr>\n",
       "      <th>15</th>\n",
       "      <td>16</td>\n",
       "      <td>41091</td>\n",
       "      <td>676</td>\n",
       "      <td>session_10744</td>\n",
       "      <td>2024-01-12 19:13:14</td>\n",
       "      <td>True</td>\n",
       "      <td>False</td>\n",
       "      <td>False</td>\n",
       "      <td>mobile</td>\n",
       "      <td>76</td>\n",
       "      <td>90.847863</td>\n",
       "      <td>NaN</td>\n",
       "      <td>test</td>\n",
       "    </tr>\n",
       "    <tr>\n",
       "      <th>16</th>\n",
       "      <td>17</td>\n",
       "      <td>1686</td>\n",
       "      <td>580</td>\n",
       "      <td>session_single_1686</td>\n",
       "      <td>2024-02-05 08:13:01</td>\n",
       "      <td>True</td>\n",
       "      <td>False</td>\n",
       "      <td>False</td>\n",
       "      <td>mobile</td>\n",
       "      <td>4</td>\n",
       "      <td>124.463413</td>\n",
       "      <td>NaN</td>\n",
       "      <td>control</td>\n",
       "    </tr>\n",
       "    <tr>\n",
       "      <th>17</th>\n",
       "      <td>18</td>\n",
       "      <td>770</td>\n",
       "      <td>912</td>\n",
       "      <td>session_single_770</td>\n",
       "      <td>2024-01-02 17:56:14</td>\n",
       "      <td>True</td>\n",
       "      <td>True</td>\n",
       "      <td>False</td>\n",
       "      <td>mobile</td>\n",
       "      <td>47</td>\n",
       "      <td>-5.296508</td>\n",
       "      <td>NaN</td>\n",
       "      <td>test</td>\n",
       "    </tr>\n",
       "    <tr>\n",
       "      <th>18</th>\n",
       "      <td>19</td>\n",
       "      <td>59736</td>\n",
       "      <td>197</td>\n",
       "      <td>session_20139</td>\n",
       "      <td>2024-04-04 19:56:45</td>\n",
       "      <td>False</td>\n",
       "      <td>True</td>\n",
       "      <td>False</td>\n",
       "      <td>desktop</td>\n",
       "      <td>63</td>\n",
       "      <td>131.842140</td>\n",
       "      <td>NaN</td>\n",
       "      <td>test</td>\n",
       "    </tr>\n",
       "    <tr>\n",
       "      <th>19</th>\n",
       "      <td>20</td>\n",
       "      <td>56102</td>\n",
       "      <td>706</td>\n",
       "      <td>session_single_56102</td>\n",
       "      <td>2024-06-18 14:34:29</td>\n",
       "      <td>False</td>\n",
       "      <td>True</td>\n",
       "      <td>False</td>\n",
       "      <td>desktop</td>\n",
       "      <td>78</td>\n",
       "      <td>97.879883</td>\n",
       "      <td>NaN</td>\n",
       "      <td>control</td>\n",
       "    </tr>\n",
       "    <tr>\n",
       "      <th>20</th>\n",
       "      <td>21</td>\n",
       "      <td>2434</td>\n",
       "      <td>958</td>\n",
       "      <td>session_single_2434</td>\n",
       "      <td>2024-04-23 06:50:43</td>\n",
       "      <td>True</td>\n",
       "      <td>True</td>\n",
       "      <td>False</td>\n",
       "      <td>tablet</td>\n",
       "      <td>40</td>\n",
       "      <td>123.711656</td>\n",
       "      <td>NaN</td>\n",
       "      <td>control</td>\n",
       "    </tr>\n",
       "    <tr>\n",
       "      <th>21</th>\n",
       "      <td>22</td>\n",
       "      <td>5312</td>\n",
       "      <td>921</td>\n",
       "      <td>session_91269</td>\n",
       "      <td>2024-05-19 05:48:31</td>\n",
       "      <td>True</td>\n",
       "      <td>True</td>\n",
       "      <td>False</td>\n",
       "      <td>mobile</td>\n",
       "      <td>35</td>\n",
       "      <td>153.458884</td>\n",
       "      <td>NaN</td>\n",
       "      <td>test</td>\n",
       "    </tr>\n",
       "    <tr>\n",
       "      <th>22</th>\n",
       "      <td>23</td>\n",
       "      <td>37820</td>\n",
       "      <td>993</td>\n",
       "      <td>session_single_37820</td>\n",
       "      <td>2024-03-22 06:22:51</td>\n",
       "      <td>True</td>\n",
       "      <td>True</td>\n",
       "      <td>True</td>\n",
       "      <td>desktop</td>\n",
       "      <td>55</td>\n",
       "      <td>133.363767</td>\n",
       "      <td>2024-03-22 06:25:41</td>\n",
       "      <td>test</td>\n",
       "    </tr>\n",
       "    <tr>\n",
       "      <th>23</th>\n",
       "      <td>24</td>\n",
       "      <td>39189</td>\n",
       "      <td>492</td>\n",
       "      <td>session_82519</td>\n",
       "      <td>2024-03-30 05:26:19</td>\n",
       "      <td>True</td>\n",
       "      <td>True</td>\n",
       "      <td>False</td>\n",
       "      <td>mobile</td>\n",
       "      <td>14</td>\n",
       "      <td>20.538618</td>\n",
       "      <td>NaN</td>\n",
       "      <td>test</td>\n",
       "    </tr>\n",
       "    <tr>\n",
       "      <th>24</th>\n",
       "      <td>25</td>\n",
       "      <td>17569</td>\n",
       "      <td>315</td>\n",
       "      <td>session_single_17569</td>\n",
       "      <td>2024-04-19 17:43:40</td>\n",
       "      <td>True</td>\n",
       "      <td>True</td>\n",
       "      <td>False</td>\n",
       "      <td>desktop</td>\n",
       "      <td>20</td>\n",
       "      <td>74.322121</td>\n",
       "      <td>NaN</td>\n",
       "      <td>control</td>\n",
       "    </tr>\n",
       "    <tr>\n",
       "      <th>25</th>\n",
       "      <td>26</td>\n",
       "      <td>53708</td>\n",
       "      <td>733</td>\n",
       "      <td>session_single_53708</td>\n",
       "      <td>2024-04-11 22:00:17</td>\n",
       "      <td>False</td>\n",
       "      <td>False</td>\n",
       "      <td>False</td>\n",
       "      <td>mobile</td>\n",
       "      <td>17</td>\n",
       "      <td>67.698334</td>\n",
       "      <td>NaN</td>\n",
       "      <td>test</td>\n",
       "    </tr>\n",
       "    <tr>\n",
       "      <th>26</th>\n",
       "      <td>27</td>\n",
       "      <td>19770</td>\n",
       "      <td>734</td>\n",
       "      <td>session_single_19770</td>\n",
       "      <td>2024-05-28 11:41:07</td>\n",
       "      <td>True</td>\n",
       "      <td>True</td>\n",
       "      <td>False</td>\n",
       "      <td>desktop</td>\n",
       "      <td>18</td>\n",
       "      <td>95.352477</td>\n",
       "      <td>NaN</td>\n",
       "      <td>control</td>\n",
       "    </tr>\n",
       "    <tr>\n",
       "      <th>27</th>\n",
       "      <td>28</td>\n",
       "      <td>28694</td>\n",
       "      <td>130</td>\n",
       "      <td>session_11723</td>\n",
       "      <td>2024-01-06 17:39:37</td>\n",
       "      <td>True</td>\n",
       "      <td>True</td>\n",
       "      <td>False</td>\n",
       "      <td>desktop</td>\n",
       "      <td>94</td>\n",
       "      <td>95.418311</td>\n",
       "      <td>NaN</td>\n",
       "      <td>test</td>\n",
       "    </tr>\n",
       "    <tr>\n",
       "      <th>28</th>\n",
       "      <td>29</td>\n",
       "      <td>6397</td>\n",
       "      <td>686</td>\n",
       "      <td>session_single_6397</td>\n",
       "      <td>2024-03-28 23:43:58</td>\n",
       "      <td>True</td>\n",
       "      <td>True</td>\n",
       "      <td>False</td>\n",
       "      <td>tablet</td>\n",
       "      <td>98</td>\n",
       "      <td>65.778725</td>\n",
       "      <td>NaN</td>\n",
       "      <td>test</td>\n",
       "    </tr>\n",
       "    <tr>\n",
       "      <th>29</th>\n",
       "      <td>30</td>\n",
       "      <td>27481</td>\n",
       "      <td>317</td>\n",
       "      <td>session_single_27481</td>\n",
       "      <td>2024-02-27 22:40:46</td>\n",
       "      <td>True</td>\n",
       "      <td>True</td>\n",
       "      <td>False</td>\n",
       "      <td>desktop</td>\n",
       "      <td>71</td>\n",
       "      <td>147.508594</td>\n",
       "      <td>NaN</td>\n",
       "      <td>control</td>\n",
       "    </tr>\n",
       "    <tr>\n",
       "      <th>30</th>\n",
       "      <td>31</td>\n",
       "      <td>41435</td>\n",
       "      <td>572</td>\n",
       "      <td>session_single_41435</td>\n",
       "      <td>2024-01-07 13:36:50</td>\n",
       "      <td>True</td>\n",
       "      <td>True</td>\n",
       "      <td>False</td>\n",
       "      <td>mobile</td>\n",
       "      <td>43</td>\n",
       "      <td>129.586579</td>\n",
       "      <td>NaN</td>\n",
       "      <td>control</td>\n",
       "    </tr>\n",
       "    <tr>\n",
       "      <th>31</th>\n",
       "      <td>32</td>\n",
       "      <td>25659</td>\n",
       "      <td>920</td>\n",
       "      <td>session_single_25659</td>\n",
       "      <td>2024-03-28 00:11:07</td>\n",
       "      <td>False</td>\n",
       "      <td>True</td>\n",
       "      <td>False</td>\n",
       "      <td>mobile</td>\n",
       "      <td>59</td>\n",
       "      <td>76.707578</td>\n",
       "      <td>NaN</td>\n",
       "      <td>test</td>\n",
       "    </tr>\n",
       "    <tr>\n",
       "      <th>32</th>\n",
       "      <td>33</td>\n",
       "      <td>18943</td>\n",
       "      <td>275</td>\n",
       "      <td>session_single_18943</td>\n",
       "      <td>2024-02-03 01:37:43</td>\n",
       "      <td>False</td>\n",
       "      <td>True</td>\n",
       "      <td>False</td>\n",
       "      <td>mobile</td>\n",
       "      <td>40</td>\n",
       "      <td>126.299798</td>\n",
       "      <td>NaN</td>\n",
       "      <td>control</td>\n",
       "    </tr>\n",
       "    <tr>\n",
       "      <th>33</th>\n",
       "      <td>34</td>\n",
       "      <td>57002</td>\n",
       "      <td>511</td>\n",
       "      <td>session_single_57002</td>\n",
       "      <td>2024-04-30 00:09:33</td>\n",
       "      <td>True</td>\n",
       "      <td>True</td>\n",
       "      <td>False</td>\n",
       "      <td>tablet</td>\n",
       "      <td>78</td>\n",
       "      <td>186.273289</td>\n",
       "      <td>NaN</td>\n",
       "      <td>test</td>\n",
       "    </tr>\n",
       "    <tr>\n",
       "      <th>34</th>\n",
       "      <td>35</td>\n",
       "      <td>18432</td>\n",
       "      <td>149</td>\n",
       "      <td>session_single_18432</td>\n",
       "      <td>2024-01-17 17:12:04</td>\n",
       "      <td>True</td>\n",
       "      <td>False</td>\n",
       "      <td>False</td>\n",
       "      <td>mobile</td>\n",
       "      <td>3</td>\n",
       "      <td>202.410396</td>\n",
       "      <td>NaN</td>\n",
       "      <td>control</td>\n",
       "    </tr>\n",
       "    <tr>\n",
       "      <th>35</th>\n",
       "      <td>36</td>\n",
       "      <td>2748</td>\n",
       "      <td>135</td>\n",
       "      <td>session_single_2748</td>\n",
       "      <td>2024-05-27 10:05:11</td>\n",
       "      <td>False</td>\n",
       "      <td>True</td>\n",
       "      <td>True</td>\n",
       "      <td>desktop</td>\n",
       "      <td>9</td>\n",
       "      <td>157.327976</td>\n",
       "      <td>2024-05-27 10:12:47</td>\n",
       "      <td>test</td>\n",
       "    </tr>\n",
       "    <tr>\n",
       "      <th>36</th>\n",
       "      <td>37</td>\n",
       "      <td>58320</td>\n",
       "      <td>232</td>\n",
       "      <td>session_single_58320</td>\n",
       "      <td>2024-04-19 15:49:36</td>\n",
       "      <td>True</td>\n",
       "      <td>False</td>\n",
       "      <td>True</td>\n",
       "      <td>desktop</td>\n",
       "      <td>22</td>\n",
       "      <td>211.538348</td>\n",
       "      <td>2024-04-19 15:56:23</td>\n",
       "      <td>control</td>\n",
       "    </tr>\n",
       "    <tr>\n",
       "      <th>37</th>\n",
       "      <td>38</td>\n",
       "      <td>59151</td>\n",
       "      <td>633</td>\n",
       "      <td>session_54860</td>\n",
       "      <td>2024-04-15 23:08:35</td>\n",
       "      <td>True</td>\n",
       "      <td>True</td>\n",
       "      <td>False</td>\n",
       "      <td>desktop</td>\n",
       "      <td>66</td>\n",
       "      <td>53.081069</td>\n",
       "      <td>NaN</td>\n",
       "      <td>test</td>\n",
       "    </tr>\n",
       "    <tr>\n",
       "      <th>38</th>\n",
       "      <td>39</td>\n",
       "      <td>190</td>\n",
       "      <td>603</td>\n",
       "      <td>session_single_190</td>\n",
       "      <td>2024-04-07 16:17:27</td>\n",
       "      <td>True</td>\n",
       "      <td>True</td>\n",
       "      <td>True</td>\n",
       "      <td>mobile</td>\n",
       "      <td>73</td>\n",
       "      <td>157.615298</td>\n",
       "      <td>2024-04-07 16:21:54</td>\n",
       "      <td>control</td>\n",
       "    </tr>\n",
       "    <tr>\n",
       "      <th>39</th>\n",
       "      <td>40</td>\n",
       "      <td>19119</td>\n",
       "      <td>477</td>\n",
       "      <td>session_single_19119</td>\n",
       "      <td>2024-02-15 19:21:32</td>\n",
       "      <td>False</td>\n",
       "      <td>True</td>\n",
       "      <td>True</td>\n",
       "      <td>tablet</td>\n",
       "      <td>22</td>\n",
       "      <td>239.491222</td>\n",
       "      <td>2024-02-15 19:28:07</td>\n",
       "      <td>test</td>\n",
       "    </tr>\n",
       "    <tr>\n",
       "      <th>40</th>\n",
       "      <td>41</td>\n",
       "      <td>35774</td>\n",
       "      <td>275</td>\n",
       "      <td>session_54806</td>\n",
       "      <td>2024-05-21 13:15:48</td>\n",
       "      <td>False</td>\n",
       "      <td>True</td>\n",
       "      <td>False</td>\n",
       "      <td>mobile</td>\n",
       "      <td>94</td>\n",
       "      <td>81.000000</td>\n",
       "      <td>NaN</td>\n",
       "      <td>test</td>\n",
       "    </tr>\n",
       "    <tr>\n",
       "      <th>41</th>\n",
       "      <td>42</td>\n",
       "      <td>53811</td>\n",
       "      <td>129</td>\n",
       "      <td>session_single_53811</td>\n",
       "      <td>2024-04-30 19:22:07</td>\n",
       "      <td>True</td>\n",
       "      <td>True</td>\n",
       "      <td>True</td>\n",
       "      <td>mobile</td>\n",
       "      <td>69</td>\n",
       "      <td>162.187892</td>\n",
       "      <td>2024-04-30 19:29:23</td>\n",
       "      <td>control</td>\n",
       "    </tr>\n",
       "    <tr>\n",
       "      <th>42</th>\n",
       "      <td>43</td>\n",
       "      <td>1900</td>\n",
       "      <td>596</td>\n",
       "      <td>session_single_1900</td>\n",
       "      <td>2024-02-13 22:34:28</td>\n",
       "      <td>False</td>\n",
       "      <td>False</td>\n",
       "      <td>False</td>\n",
       "      <td>mobile</td>\n",
       "      <td>63</td>\n",
       "      <td>111.709726</td>\n",
       "      <td>NaN</td>\n",
       "      <td>control</td>\n",
       "    </tr>\n",
       "    <tr>\n",
       "      <th>43</th>\n",
       "      <td>44</td>\n",
       "      <td>56887</td>\n",
       "      <td>70</td>\n",
       "      <td>session_single_56887</td>\n",
       "      <td>2024-03-24 02:30:17</td>\n",
       "      <td>False</td>\n",
       "      <td>True</td>\n",
       "      <td>False</td>\n",
       "      <td>mobile</td>\n",
       "      <td>53</td>\n",
       "      <td>106.814473</td>\n",
       "      <td>NaN</td>\n",
       "      <td>test</td>\n",
       "    </tr>\n",
       "    <tr>\n",
       "      <th>44</th>\n",
       "      <td>45</td>\n",
       "      <td>1268</td>\n",
       "      <td>430</td>\n",
       "      <td>session_single_1268</td>\n",
       "      <td>2024-02-01 16:02:25</td>\n",
       "      <td>False</td>\n",
       "      <td>True</td>\n",
       "      <td>False</td>\n",
       "      <td>mobile</td>\n",
       "      <td>19</td>\n",
       "      <td>163.113421</td>\n",
       "      <td>NaN</td>\n",
       "      <td>test</td>\n",
       "    </tr>\n",
       "    <tr>\n",
       "      <th>45</th>\n",
       "      <td>46</td>\n",
       "      <td>31552</td>\n",
       "      <td>19</td>\n",
       "      <td>session_92227</td>\n",
       "      <td>2024-05-04 19:24:02</td>\n",
       "      <td>True</td>\n",
       "      <td>True</td>\n",
       "      <td>False</td>\n",
       "      <td>desktop</td>\n",
       "      <td>58</td>\n",
       "      <td>78.202713</td>\n",
       "      <td>NaN</td>\n",
       "      <td>test</td>\n",
       "    </tr>\n",
       "    <tr>\n",
       "      <th>46</th>\n",
       "      <td>47</td>\n",
       "      <td>50681</td>\n",
       "      <td>292</td>\n",
       "      <td>session_single_50681</td>\n",
       "      <td>2024-05-08 09:22:05</td>\n",
       "      <td>True</td>\n",
       "      <td>True</td>\n",
       "      <td>True</td>\n",
       "      <td>mobile</td>\n",
       "      <td>79</td>\n",
       "      <td>186.107793</td>\n",
       "      <td>2024-05-08 09:30:03</td>\n",
       "      <td>control</td>\n",
       "    </tr>\n",
       "    <tr>\n",
       "      <th>47</th>\n",
       "      <td>48</td>\n",
       "      <td>11395</td>\n",
       "      <td>873</td>\n",
       "      <td>session_single_11395</td>\n",
       "      <td>2024-02-25 08:43:35</td>\n",
       "      <td>False</td>\n",
       "      <td>True</td>\n",
       "      <td>True</td>\n",
       "      <td>mobile</td>\n",
       "      <td>92</td>\n",
       "      <td>172.723592</td>\n",
       "      <td>2024-02-25 08:45:10</td>\n",
       "      <td>control</td>\n",
       "    </tr>\n",
       "    <tr>\n",
       "      <th>48</th>\n",
       "      <td>49</td>\n",
       "      <td>3557</td>\n",
       "      <td>556</td>\n",
       "      <td>session_20745</td>\n",
       "      <td>2024-06-08 03:22:54</td>\n",
       "      <td>True</td>\n",
       "      <td>True</td>\n",
       "      <td>False</td>\n",
       "      <td>mobile</td>\n",
       "      <td>40</td>\n",
       "      <td>87.583110</td>\n",
       "      <td>NaN</td>\n",
       "      <td>test</td>\n",
       "    </tr>\n",
       "    <tr>\n",
       "      <th>49</th>\n",
       "      <td>50</td>\n",
       "      <td>3891</td>\n",
       "      <td>500</td>\n",
       "      <td>session_36137</td>\n",
       "      <td>2024-05-29 23:25:12</td>\n",
       "      <td>True</td>\n",
       "      <td>True</td>\n",
       "      <td>False</td>\n",
       "      <td>tablet</td>\n",
       "      <td>74</td>\n",
       "      <td>93.688066</td>\n",
       "      <td>NaN</td>\n",
       "      <td>test</td>\n",
       "    </tr>\n",
       "  </tbody>\n",
       "</table>\n",
       "</div>"
      ],
      "text/plain": [
       "    interaction_id  user_id  product_id            session_id  \\\n",
       "0                1    56423         847  session_single_56423   \n",
       "1                2    15796         564  session_single_15796   \n",
       "2                3      861         907         session_75080   \n",
       "3                4    38159         853         session_69069   \n",
       "4                5    54344         775  session_single_54344   \n",
       "5                6    44733         119  session_single_44733   \n",
       "6                7    11285         578         session_74581   \n",
       "7                8    54887         267         session_42616   \n",
       "8                9     6266         280         session_43528   \n",
       "9               10    16851         346  session_single_16851   \n",
       "10              11    37195         200  session_single_37195   \n",
       "11              12    21963         610  session_single_21963   \n",
       "12              13    47192         143  session_single_47192   \n",
       "13              14    44132         677  session_single_44132   \n",
       "14              15    16024         417  session_single_16024   \n",
       "15              16    41091         676         session_10744   \n",
       "16              17     1686         580   session_single_1686   \n",
       "17              18      770         912    session_single_770   \n",
       "18              19    59736         197         session_20139   \n",
       "19              20    56102         706  session_single_56102   \n",
       "20              21     2434         958   session_single_2434   \n",
       "21              22     5312         921         session_91269   \n",
       "22              23    37820         993  session_single_37820   \n",
       "23              24    39189         492         session_82519   \n",
       "24              25    17569         315  session_single_17569   \n",
       "25              26    53708         733  session_single_53708   \n",
       "26              27    19770         734  session_single_19770   \n",
       "27              28    28694         130         session_11723   \n",
       "28              29     6397         686   session_single_6397   \n",
       "29              30    27481         317  session_single_27481   \n",
       "30              31    41435         572  session_single_41435   \n",
       "31              32    25659         920  session_single_25659   \n",
       "32              33    18943         275  session_single_18943   \n",
       "33              34    57002         511  session_single_57002   \n",
       "34              35    18432         149  session_single_18432   \n",
       "35              36     2748         135   session_single_2748   \n",
       "36              37    58320         232  session_single_58320   \n",
       "37              38    59151         633         session_54860   \n",
       "38              39      190         603    session_single_190   \n",
       "39              40    19119         477  session_single_19119   \n",
       "40              41    35774         275         session_54806   \n",
       "41              42    53811         129  session_single_53811   \n",
       "42              43     1900         596   session_single_1900   \n",
       "43              44    56887          70  session_single_56887   \n",
       "44              45     1268         430   session_single_1268   \n",
       "45              46    31552          19         session_92227   \n",
       "46              47    50681         292  session_single_50681   \n",
       "47              48    11395         873  session_single_11395   \n",
       "48              49     3557         556         session_20745   \n",
       "49              50     3891         500         session_36137   \n",
       "\n",
       "        timestamp_click  recommended  clicked  purchased device_used  \\\n",
       "0   2024-05-15 00:35:39         True     True      False      tablet   \n",
       "1   2024-01-31 23:54:19        False     True      False     desktop   \n",
       "2   2024-05-20 07:14:28        False     True      False     desktop   \n",
       "3   2024-04-03 16:45:11         True     True      False      mobile   \n",
       "4   2024-01-12 20:12:07        False     True      False      mobile   \n",
       "5   2024-04-20 21:40:27        False     True       True      mobile   \n",
       "6   2024-02-10 23:12:43        False     True       True      tablet   \n",
       "7   2024-04-09 20:58:17         True    False      False     desktop   \n",
       "8   2024-02-09 20:47:00         True    False       True      tablet   \n",
       "9   2024-04-08 05:34:21         True    False      False      mobile   \n",
       "10  2024-04-26 03:48:27         True     True      False      mobile   \n",
       "11  2024-04-22 09:47:34         True     True      False      mobile   \n",
       "12  2024-04-06 04:47:24         True     True      False      mobile   \n",
       "13  2024-04-01 04:03:13         True     True      False     desktop   \n",
       "14  2024-01-23 08:21:29        False     True      False     desktop   \n",
       "15  2024-01-12 19:13:14         True    False      False      mobile   \n",
       "16  2024-02-05 08:13:01         True    False      False      mobile   \n",
       "17  2024-01-02 17:56:14         True     True      False      mobile   \n",
       "18  2024-04-04 19:56:45        False     True      False     desktop   \n",
       "19  2024-06-18 14:34:29        False     True      False     desktop   \n",
       "20  2024-04-23 06:50:43         True     True      False      tablet   \n",
       "21  2024-05-19 05:48:31         True     True      False      mobile   \n",
       "22  2024-03-22 06:22:51         True     True       True     desktop   \n",
       "23  2024-03-30 05:26:19         True     True      False      mobile   \n",
       "24  2024-04-19 17:43:40         True     True      False     desktop   \n",
       "25  2024-04-11 22:00:17        False    False      False      mobile   \n",
       "26  2024-05-28 11:41:07         True     True      False     desktop   \n",
       "27  2024-01-06 17:39:37         True     True      False     desktop   \n",
       "28  2024-03-28 23:43:58         True     True      False      tablet   \n",
       "29  2024-02-27 22:40:46         True     True      False     desktop   \n",
       "30  2024-01-07 13:36:50         True     True      False      mobile   \n",
       "31  2024-03-28 00:11:07        False     True      False      mobile   \n",
       "32  2024-02-03 01:37:43        False     True      False      mobile   \n",
       "33  2024-04-30 00:09:33         True     True      False      tablet   \n",
       "34  2024-01-17 17:12:04         True    False      False      mobile   \n",
       "35  2024-05-27 10:05:11        False     True       True     desktop   \n",
       "36  2024-04-19 15:49:36         True    False       True     desktop   \n",
       "37  2024-04-15 23:08:35         True     True      False     desktop   \n",
       "38  2024-04-07 16:17:27         True     True       True      mobile   \n",
       "39  2024-02-15 19:21:32        False     True       True      tablet   \n",
       "40  2024-05-21 13:15:48        False     True      False      mobile   \n",
       "41  2024-04-30 19:22:07         True     True       True      mobile   \n",
       "42  2024-02-13 22:34:28        False    False      False      mobile   \n",
       "43  2024-03-24 02:30:17        False     True      False      mobile   \n",
       "44  2024-02-01 16:02:25        False     True      False      mobile   \n",
       "45  2024-05-04 19:24:02         True     True      False     desktop   \n",
       "46  2024-05-08 09:22:05         True     True       True      mobile   \n",
       "47  2024-02-25 08:43:35        False     True       True      mobile   \n",
       "48  2024-06-08 03:22:54         True     True      False      mobile   \n",
       "49  2024-05-29 23:25:12         True     True      False      tablet   \n",
       "\n",
       "    match_score  time_on_page_sec   timestamp_purchase user_group  \n",
       "0            44        122.625471                  NaN    control  \n",
       "1            51        113.145827                  NaN    control  \n",
       "2            60        175.284554                  NaN       test  \n",
       "3            84         95.958430                  NaN       test  \n",
       "4            34        115.837189                  NaN       test  \n",
       "5            24        182.677071  2024-04-20 21:42:21       test  \n",
       "6            36        158.054664  2024-02-10 23:18:05    control  \n",
       "7            94        180.045422                  NaN       test  \n",
       "8            28        146.650538  2024-02-09 20:48:58    control  \n",
       "9            51        159.319883                  NaN    control  \n",
       "10           91        113.479182                  NaN       test  \n",
       "11           46        169.053627                  NaN       test  \n",
       "12           20        145.076505                  NaN    control  \n",
       "13           98        137.851795                  NaN       test  \n",
       "14           86        227.738862                  NaN    control  \n",
       "15           76         90.847863                  NaN       test  \n",
       "16            4        124.463413                  NaN    control  \n",
       "17           47         -5.296508                  NaN       test  \n",
       "18           63        131.842140                  NaN       test  \n",
       "19           78         97.879883                  NaN    control  \n",
       "20           40        123.711656                  NaN    control  \n",
       "21           35        153.458884                  NaN       test  \n",
       "22           55        133.363767  2024-03-22 06:25:41       test  \n",
       "23           14         20.538618                  NaN       test  \n",
       "24           20         74.322121                  NaN    control  \n",
       "25           17         67.698334                  NaN       test  \n",
       "26           18         95.352477                  NaN    control  \n",
       "27           94         95.418311                  NaN       test  \n",
       "28           98         65.778725                  NaN       test  \n",
       "29           71        147.508594                  NaN    control  \n",
       "30           43        129.586579                  NaN    control  \n",
       "31           59         76.707578                  NaN       test  \n",
       "32           40        126.299798                  NaN    control  \n",
       "33           78        186.273289                  NaN       test  \n",
       "34            3        202.410396                  NaN    control  \n",
       "35            9        157.327976  2024-05-27 10:12:47       test  \n",
       "36           22        211.538348  2024-04-19 15:56:23    control  \n",
       "37           66         53.081069                  NaN       test  \n",
       "38           73        157.615298  2024-04-07 16:21:54    control  \n",
       "39           22        239.491222  2024-02-15 19:28:07       test  \n",
       "40           94         81.000000                  NaN       test  \n",
       "41           69        162.187892  2024-04-30 19:29:23    control  \n",
       "42           63        111.709726                  NaN    control  \n",
       "43           53        106.814473                  NaN       test  \n",
       "44           19        163.113421                  NaN       test  \n",
       "45           58         78.202713                  NaN       test  \n",
       "46           79        186.107793  2024-05-08 09:30:03    control  \n",
       "47           92        172.723592  2024-02-25 08:45:10    control  \n",
       "48           40         87.583110                  NaN       test  \n",
       "49           74         93.688066                  NaN       test  "
      ]
     },
     "execution_count": 244,
     "metadata": {},
     "output_type": "execute_result"
    }
   ],
   "source": [
    "interactions.head(50)"
   ]
  },
  {
   "cell_type": "code",
   "execution_count": 245,
   "id": "17b6c252",
   "metadata": {},
   "outputs": [
    {
     "name": "stdout",
     "output_type": "stream",
     "text": [
      "<class 'pandas.core.frame.DataFrame'>\n",
      "RangeIndex: 600000 entries, 0 to 599999\n",
      "Data columns (total 13 columns):\n",
      " #   Column              Non-Null Count   Dtype  \n",
      "---  ------              --------------   -----  \n",
      " 0   interaction_id      600000 non-null  int64  \n",
      " 1   user_id             600000 non-null  int64  \n",
      " 2   product_id          600000 non-null  int64  \n",
      " 3   session_id          600000 non-null  object \n",
      " 4   timestamp_click     600000 non-null  object \n",
      " 5   recommended         600000 non-null  bool   \n",
      " 6   clicked             600000 non-null  bool   \n",
      " 7   purchased           600000 non-null  bool   \n",
      " 8   device_used         600000 non-null  object \n",
      " 9   match_score         600000 non-null  int64  \n",
      " 10  time_on_page_sec    600000 non-null  float64\n",
      " 11  timestamp_purchase  135550 non-null  object \n",
      " 12  user_group          600000 non-null  object \n",
      "dtypes: bool(3), float64(1), int64(4), object(5)\n",
      "memory usage: 47.5+ MB\n"
     ]
    }
   ],
   "source": [
    "interactions.info()"
   ]
  },
  {
   "cell_type": "code",
   "execution_count": 246,
   "id": "7a1903ee",
   "metadata": {},
   "outputs": [
    {
     "data": {
      "text/plain": [
       "interaction_id             0\n",
       "user_id                    0\n",
       "product_id                 0\n",
       "session_id                 0\n",
       "timestamp_click            0\n",
       "recommended                0\n",
       "clicked                    0\n",
       "purchased                  0\n",
       "device_used                0\n",
       "match_score                0\n",
       "time_on_page_sec           0\n",
       "timestamp_purchase    464450\n",
       "user_group                 0\n",
       "dtype: int64"
      ]
     },
     "execution_count": 246,
     "metadata": {},
     "output_type": "execute_result"
    }
   ],
   "source": [
    "interactions.isna().sum()"
   ]
  },
  {
   "cell_type": "code",
   "execution_count": 247,
   "id": "ed0f5258",
   "metadata": {},
   "outputs": [
    {
     "data": {
      "text/plain": [
       "0"
      ]
     },
     "execution_count": 247,
     "metadata": {},
     "output_type": "execute_result"
    }
   ],
   "source": [
    "interactions.duplicated().sum()"
   ]
  },
  {
   "cell_type": "code",
   "execution_count": 248,
   "id": "42550618",
   "metadata": {},
   "outputs": [],
   "source": [
    "interactions[\"timestamp_click\"] = pd.to_datetime(interactions[\"timestamp_click\"], errors=\"coerce\")\n",
    "interactions[\"timestamp_purchase\"] = pd.to_datetime(interactions[\"timestamp_purchase\"], errors=\"coerce\")"
   ]
  },
  {
   "cell_type": "code",
   "execution_count": 249,
   "id": "0f726924",
   "metadata": {},
   "outputs": [
    {
     "data": {
      "text/plain": [
       "interaction_id                 int64\n",
       "user_id                        int64\n",
       "product_id                     int64\n",
       "session_id                    object\n",
       "timestamp_click       datetime64[ns]\n",
       "recommended                     bool\n",
       "clicked                         bool\n",
       "purchased                       bool\n",
       "device_used                   object\n",
       "match_score                    int64\n",
       "time_on_page_sec             float64\n",
       "timestamp_purchase    datetime64[ns]\n",
       "user_group                    object\n",
       "dtype: object"
      ]
     },
     "execution_count": 249,
     "metadata": {},
     "output_type": "execute_result"
    }
   ],
   "source": [
    "interactions.dtypes"
   ]
  },
  {
   "cell_type": "code",
   "execution_count": 250,
   "id": "dcbd591b",
   "metadata": {},
   "outputs": [
    {
     "data": {
      "text/plain": [
       "device_used\n",
       "mobile     359451\n",
       "desktop    179693\n",
       "tablet      60356\n",
       "moblie        500\n",
       "Name: count, dtype: int64"
      ]
     },
     "execution_count": 250,
     "metadata": {},
     "output_type": "execute_result"
    }
   ],
   "source": [
    "interactions[\"device_used\"].value_counts()"
   ]
  },
  {
   "cell_type": "code",
   "execution_count": 251,
   "id": "474a5832",
   "metadata": {},
   "outputs": [],
   "source": [
    "interactions[\"device_used\"] = interactions[\"device_used\"].replace(\"moblie\", \"mobile\")"
   ]
  },
  {
   "cell_type": "code",
   "execution_count": 252,
   "id": "60a6b2dd",
   "metadata": {},
   "outputs": [],
   "source": [
    "interactions[\"reco_purchased\"] = interactions[\"recommended\"] & interactions[\"purchased\"]"
   ]
  },
  {
   "cell_type": "code",
   "execution_count": 253,
   "id": "a271738e",
   "metadata": {},
   "outputs": [],
   "source": [
    "interactions = interactions[~((interactions[\"purchased\"] == True) & (interactions[\"timestamp_purchase\"].isna()))]"
   ]
  },
  {
   "cell_type": "code",
   "execution_count": 254,
   "id": "171106d3",
   "metadata": {},
   "outputs": [],
   "source": [
    "interactions[\"time_on_page_sec\"] = interactions[\"time_on_page_sec\"].clip(lower=0)"
   ]
  },
  {
   "cell_type": "code",
   "execution_count": 255,
   "id": "e7e5a2f2",
   "metadata": {},
   "outputs": [
    {
     "data": {
      "text/plain": [
       "count    600000.000000\n",
       "mean        118.141960\n",
       "std          56.171534\n",
       "min           0.000000\n",
       "25%          80.001870\n",
       "50%         111.083986\n",
       "75%         147.538296\n",
       "max         419.175786\n",
       "Name: time_on_page_sec, dtype: float64"
      ]
     },
     "execution_count": 255,
     "metadata": {},
     "output_type": "execute_result"
    }
   ],
   "source": [
    "interactions[\"time_on_page_sec\"].describe()"
   ]
  },
  {
   "cell_type": "markdown",
   "id": "f208f469",
   "metadata": {},
   "source": [
    "### Age Grouping"
   ]
  },
  {
   "cell_type": "code",
   "execution_count": 256,
   "id": "abfd1183",
   "metadata": {},
   "outputs": [
    {
     "name": "stderr",
     "output_type": "stream",
     "text": [
      "/var/folders/h0/4jpjr28x5yj6tn2nqwlp8cn40000gn/T/ipykernel_55756/2279251422.py:7: FutureWarning: The default value of observed=False is deprecated and will change to observed=True in a future version of pandas. Specify observed=False to silence this warning and retain the current behavior\n",
      "  age_gender_pivot = users.pivot_table(index=\"age_group\", columns=\"gender\", aggfunc=\"size\", fill_value=0)\n"
     ]
    }
   ],
   "source": [
    "users[\"age_group\"] = pd.cut(\n",
    "    users[\"age\"],\n",
    "    bins=[18, 30, 45, 60, 75, 120],\n",
    "    labels=[\"18–30\", \"31–45\", \"46–60\", \"61–75\", \"76+\"]\n",
    ")\n",
    "\n",
    "age_gender_pivot = users.pivot_table(index=\"age_group\", columns=\"gender\", aggfunc=\"size\", fill_value=0)"
   ]
  },
  {
   "cell_type": "code",
   "execution_count": 257,
   "id": "1b5069ae",
   "metadata": {},
   "outputs": [
    {
     "data": {
      "text/html": [
       "<div>\n",
       "<style scoped>\n",
       "    .dataframe tbody tr th:only-of-type {\n",
       "        vertical-align: middle;\n",
       "    }\n",
       "\n",
       "    .dataframe tbody tr th {\n",
       "        vertical-align: top;\n",
       "    }\n",
       "\n",
       "    .dataframe thead th {\n",
       "        text-align: right;\n",
       "    }\n",
       "</style>\n",
       "<table border=\"1\" class=\"dataframe\">\n",
       "  <thead>\n",
       "    <tr style=\"text-align: right;\">\n",
       "      <th>gender</th>\n",
       "      <th>Female</th>\n",
       "      <th>Male</th>\n",
       "    </tr>\n",
       "    <tr>\n",
       "      <th>age_group</th>\n",
       "      <th></th>\n",
       "      <th></th>\n",
       "    </tr>\n",
       "  </thead>\n",
       "  <tbody>\n",
       "    <tr>\n",
       "      <th>18–30</th>\n",
       "      <td>5461</td>\n",
       "      <td>8336</td>\n",
       "    </tr>\n",
       "    <tr>\n",
       "      <th>31–45</th>\n",
       "      <td>6987</td>\n",
       "      <td>10494</td>\n",
       "    </tr>\n",
       "    <tr>\n",
       "      <th>46–60</th>\n",
       "      <td>6825</td>\n",
       "      <td>10288</td>\n",
       "    </tr>\n",
       "    <tr>\n",
       "      <th>61–75</th>\n",
       "      <td>4127</td>\n",
       "      <td>6307</td>\n",
       "    </tr>\n",
       "    <tr>\n",
       "      <th>76+</th>\n",
       "      <td>1</td>\n",
       "      <td>1</td>\n",
       "    </tr>\n",
       "  </tbody>\n",
       "</table>\n",
       "</div>"
      ],
      "text/plain": [
       "gender     Female   Male\n",
       "age_group               \n",
       "18–30        5461   8336\n",
       "31–45        6987  10494\n",
       "46–60        6825  10288\n",
       "61–75        4127   6307\n",
       "76+             1      1"
      ]
     },
     "execution_count": 257,
     "metadata": {},
     "output_type": "execute_result"
    }
   ],
   "source": [
    "age_gender_pivot"
   ]
  },
  {
   "cell_type": "markdown",
   "id": "f9c8d386",
   "metadata": {},
   "source": [
    "### Merging all 3 data sets"
   ]
  },
  {
   "cell_type": "code",
   "execution_count": 258,
   "id": "e48e7502",
   "metadata": {},
   "outputs": [],
   "source": [
    "df = interactions.merge(users, on=\"user_id\", how=\"left\")\n",
    "df = df.merge(products, on=\"product_id\", how=\"left\")"
   ]
  },
  {
   "cell_type": "code",
   "execution_count": 259,
   "id": "b52a749a",
   "metadata": {},
   "outputs": [],
   "source": [
    "pd.set_option(\"display.max_columns\", None)\n"
   ]
  },
  {
   "cell_type": "code",
   "execution_count": 260,
   "id": "9ddb5c04",
   "metadata": {},
   "outputs": [
    {
     "data": {
      "text/plain": [
       "interaction_id             0\n",
       "user_id                    0\n",
       "product_id                 0\n",
       "session_id                 0\n",
       "timestamp_click            0\n",
       "recommended                0\n",
       "clicked                    0\n",
       "purchased                  0\n",
       "device_used                0\n",
       "match_score                0\n",
       "time_on_page_sec           0\n",
       "timestamp_purchase    464450\n",
       "user_group_x               0\n",
       "reco_purchased             0\n",
       "age                        5\n",
       "gender                   568\n",
       "country                    5\n",
       "account_created            5\n",
       "device_type                5\n",
       "marketing_channel          5\n",
       "user_group_y               5\n",
       "is_adult                   5\n",
       "age_group              11166\n",
       "category                   0\n",
       "price                      0\n",
       "rating                   639\n",
       "stock_quantity             0\n",
       "launch_date                0\n",
       "dtype: int64"
      ]
     },
     "execution_count": 260,
     "metadata": {},
     "output_type": "execute_result"
    }
   ],
   "source": [
    "df.isnull().sum()"
   ]
  },
  {
   "cell_type": "code",
   "execution_count": 261,
   "id": "9bcb3bdd",
   "metadata": {},
   "outputs": [],
   "source": [
    "df.drop(columns=\"user_group_x\", inplace=True)\n",
    "df.rename(columns={\"user_group_y\": \"user_group\"}, inplace=True)"
   ]
  },
  {
   "cell_type": "code",
   "execution_count": 262,
   "id": "4ed0b946",
   "metadata": {},
   "outputs": [
    {
     "name": "stdout",
     "output_type": "stream",
     "text": [
      "0\n"
     ]
    }
   ],
   "source": [
    "# Manually assign age groups to handle all possible values in the df dataframe\n",
    "df['age_group'] = '76+'  # Default for high ages\n",
    "df.loc[df['age'] <= 30, 'age_group'] = '18–30'\n",
    "df.loc[(df['age'] > 30) & (df['age'] <= 45), 'age_group'] = '31–45'\n",
    "df.loc[(df['age'] > 45) & (df['age'] <= 60), 'age_group'] = '46–60'\n",
    "df.loc[(df['age'] > 60) & (df['age'] <= 75), 'age_group'] = '61–75'\n",
    "\n",
    "# Verify no NaNs remain\n",
    "print(df['age_group'].isnull().sum())"
   ]
  },
  {
   "cell_type": "code",
   "execution_count": 272,
   "id": "a01d66fd",
   "metadata": {},
   "outputs": [
    {
     "data": {
      "text/plain": [
       "user_group\n",
       "test       300183\n",
       "control    299812\n",
       "Name: count, dtype: int64"
      ]
     },
     "execution_count": 272,
     "metadata": {},
     "output_type": "execute_result"
    }
   ],
   "source": [
    "df[\"user_group\"].value_counts()"
   ]
  },
  {
   "cell_type": "code",
   "execution_count": 263,
   "id": "0484dcf1",
   "metadata": {},
   "outputs": [
    {
     "data": {
      "text/plain": [
       "interaction_id             0\n",
       "user_id                    0\n",
       "product_id                 0\n",
       "session_id                 0\n",
       "timestamp_click            0\n",
       "recommended                0\n",
       "clicked                    0\n",
       "purchased                  0\n",
       "device_used                0\n",
       "match_score                0\n",
       "time_on_page_sec           0\n",
       "timestamp_purchase    464450\n",
       "reco_purchased             0\n",
       "age                        5\n",
       "gender                   568\n",
       "country                    5\n",
       "account_created            5\n",
       "device_type                5\n",
       "marketing_channel          5\n",
       "user_group                 5\n",
       "is_adult                   5\n",
       "age_group                  0\n",
       "category                   0\n",
       "price                      0\n",
       "rating                   639\n",
       "stock_quantity             0\n",
       "launch_date                0\n",
       "dtype: int64"
      ]
     },
     "execution_count": 263,
     "metadata": {},
     "output_type": "execute_result"
    }
   ],
   "source": [
    "df.isnull().sum()"
   ]
  },
  {
   "cell_type": "markdown",
   "id": "0af95787",
   "metadata": {},
   "source": [
    "#### A/B Testing Analysis - Key Performance Indicators (KPIs)"
   ]
  },
  {
   "cell_type": "code",
   "execution_count": 264,
   "id": "10037186",
   "metadata": {},
   "outputs": [
    {
     "name": "stdout",
     "output_type": "stream",
     "text": [
      "Purchase Rate by Group:\n",
      "user_group\n",
      "control    20.146292\n",
      "test       25.034063\n",
      "Name: purchased, dtype: float64\n",
      "\n",
      "\n",
      "Purchase Rate Chi-Square Test: p-value = 0.0000\n",
      "Statistically significant difference? Yes\n",
      "\n",
      "Average Time to Purchase (minutes):\n",
      "user_group\n",
      "control    4.490516\n",
      "test       4.492018\n",
      "Name: time_to_purchase_min, dtype: float64\n",
      "\n",
      "\n",
      "Return Rate (% of users with multiple sessions):\n",
      "user_group\n",
      "control    18.044536\n",
      "test       44.986332\n",
      "Name: multiple_sessions, dtype: float64\n",
      "\n",
      "\n"
     ]
    }
   ],
   "source": [
    "purchase_rate = df.groupby('user_group')['purchased'].mean() * 100\n",
    "print(f\"Purchase Rate by Group:\")\n",
    "print(purchase_rate)\n",
    "\n",
    "control_purchases = df[df['user_group'] == 'control']['purchased']\n",
    "test_purchases = df[df['user_group'] == 'test']['purchased']\n",
    "\n",
    "contingency = pd.crosstab(df['user_group'], df['purchased'])\n",
    "chi2, p_value, _, _ = stats.chi2_contingency(contingency)\n",
    "print(f\"Purchase Rate Chi-Square Test: p-value = {p_value:.4f}\")\n",
    "print(f\"Statistically significant difference? {'Yes' if p_value < 0.05 else 'No'}\\n\")\n",
    "\n",
    "purchase_data = df[df['purchased'] == True].copy()\n",
    "purchase_data['time_to_purchase_min'] = (purchase_data['timestamp_purchase'] - purchase_data['timestamp_click']).dt.total_seconds() / 60\n",
    "time_to_purchase = purchase_data.groupby('user_group')['time_to_purchase_min'].mean()\n",
    "print(f\"Average Time to Purchase (minutes):\")\n",
    "print(time_to_purchase)\n",
    "\n",
    "user_sessions = df.groupby(['user_id', 'user_group'])['session_id'].nunique().reset_index()\n",
    "user_sessions['multiple_sessions'] = user_sessions['session_id'] > 1\n",
    "return_rate = user_sessions.groupby('user_group')['multiple_sessions'].mean() * 100\n",
    "print(f\"Return Rate (% of users with multiple sessions):\")\n",
    "print(return_rate)"
   ]
  },
  {
   "cell_type": "markdown",
   "id": "0e9ce175",
   "metadata": {},
   "source": [
    "### Demographic Analysis"
   ]
  },
  {
   "cell_type": "code",
   "execution_count": 265,
   "id": "64fad633",
   "metadata": {},
   "outputs": [
    {
     "name": "stdout",
     "output_type": "stream",
     "text": [
      "Purchase Rate by Age Group:\n",
      "age_group       18–30      31–45      46–60      61–75        76+\n",
      "user_group                                                       \n",
      "control     20.288141  20.218922  20.125793  19.853525  14.285714\n",
      "test        25.054446  24.937804  25.105789  25.047717  33.333333\n",
      "\n",
      "\n",
      "Purchase Rate by Gender:\n",
      "gender         Female       Male\n",
      "user_group                      \n",
      "control     19.932342  20.287116\n",
      "test        25.034570  25.037923\n",
      "\n",
      "\n",
      "Purchase Rate by Device Type:\n",
      "device_used    desktop     mobile     tablet\n",
      "user_group                                  \n",
      "control      20.207553  20.109855  20.180186\n",
      "test         24.689761  25.190645  25.121448\n",
      "\n",
      "\n"
     ]
    }
   ],
   "source": [
    "age_purchase = df.groupby(['user_group', 'age_group'])['purchased'].mean().unstack() * 100\n",
    "print(f\"Purchase Rate by Age Group:\")\n",
    "print(age_purchase)\n",
    "\n",
    "gender_purchase = df.groupby(['user_group', 'gender'])['purchased'].mean().unstack() * 100\n",
    "print(f\"Purchase Rate by Gender:\")\n",
    "print(gender_purchase)\n",
    "\n",
    "device_purchase = df.groupby(['user_group', 'device_used'])['purchased'].mean().unstack() * 100\n",
    "print(f\"Purchase Rate by Device Type:\")\n",
    "print(device_purchase)"
   ]
  },
  {
   "cell_type": "markdown",
   "id": "887ad1ba",
   "metadata": {},
   "source": [
    "### Hypothesis Testing"
   ]
  },
  {
   "cell_type": "code",
   "execution_count": 269,
   "id": "9bb0fbbe",
   "metadata": {},
   "outputs": [
    {
     "name": "stdout",
     "output_type": "stream",
     "text": [
      "Purchase Rate Chi-Square: chi2=2048.87, p=0.00000000\n",
      "Time to Purchase T-Test: t=-0.1359, p=0.89191176\n"
     ]
    },
    {
     "name": "stderr",
     "output_type": "stream",
     "text": [
      "/var/folders/h0/4jpjr28x5yj6tn2nqwlp8cn40000gn/T/ipykernel_55756/205681031.py:8: SettingWithCopyWarning: \n",
      "A value is trying to be set on a copy of a slice from a DataFrame.\n",
      "Try using .loc[row_indexer,col_indexer] = value instead\n",
      "\n",
      "See the caveats in the documentation: https://pandas.pydata.org/pandas-docs/stable/user_guide/indexing.html#returning-a-view-versus-a-copy\n",
      "  purchase_data['time_to_purchase'] = (purchase_data['timestamp_purchase'] - purchase_data['timestamp_click']).dt.total_seconds()/60\n"
     ]
    }
   ],
   "source": [
    "# Purchase Rate Chi-Square Test\n",
    "contingency = pd.crosstab(df['user_group'], df['purchased'])\n",
    "chi2, p, _, _ = stats.chi2_contingency(contingency)\n",
    "print(f'Purchase Rate Chi-Square: chi2={chi2:.2f}, p={p:.8f}')\n",
    "\n",
    "# Time to Purchase T-Test\n",
    "purchase_data = df[df['purchased'] == True]\n",
    "purchase_data['time_to_purchase'] = (purchase_data['timestamp_purchase'] - purchase_data['timestamp_click']).dt.total_seconds()/60\n",
    "t, p_t = stats.ttest_ind(purchase_data[purchase_data['user_group'] == 'control']['time_to_purchase'], \n",
    "                         purchase_data[purchase_data['user_group'] == 'test']['time_to_purchase'], equal_var=False)\n",
    "print(f'Time to Purchase T-Test: t={t:.4f}, p={p_t:.8f}')"
   ]
  },
  {
   "cell_type": "code",
   "execution_count": 270,
   "id": "c745bd4f",
   "metadata": {},
   "outputs": [],
   "source": [
    "df.to_csv(\"df_full.csv\", index=False)"
   ]
  }
 ],
 "metadata": {
  "kernelspec": {
   "display_name": "base",
   "language": "python",
   "name": "python3"
  },
  "language_info": {
   "codemirror_mode": {
    "name": "ipython",
    "version": 3
   },
   "file_extension": ".py",
   "mimetype": "text/x-python",
   "name": "python",
   "nbconvert_exporter": "python",
   "pygments_lexer": "ipython3",
   "version": "3.12.7"
  }
 },
 "nbformat": 4,
 "nbformat_minor": 5
}
